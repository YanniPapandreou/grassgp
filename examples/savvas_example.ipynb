{
 "cells": [
  {
   "cell_type": "code",
   "execution_count": 1,
   "id": "ab31fded-a4aa-4237-803a-2021de3bb7d1",
   "metadata": {},
   "outputs": [],
   "source": [
    "# import os\n",
    "import time\n",
    "from hydra_zen import instantiate, make_config, builds\n",
    "# import sys"
   ]
  },
  {
   "cell_type": "code",
   "execution_count": 2,
   "id": "0b267e0f-4195-4106-8cb7-843045264c28",
   "metadata": {},
   "outputs": [],
   "source": [
    "import jax.numpy as np\n",
    "from jax import random, vmap, grad\n",
    "from scipy.stats import special_ortho_group\n",
    "from numpy.random import seed as set_numpy_seed"
   ]
  },
  {
   "cell_type": "code",
   "execution_count": 3,
   "id": "a7eada56-6591-4589-aa54-246e25feec84",
   "metadata": {},
   "outputs": [
    {
     "name": "stderr",
     "output_type": "stream",
     "text": [
      "No GPU/TPU found, falling back to CPU. (Set TF_CPP_MIN_LOG_LEVEL=0 and rerun for more info.)\n"
     ]
    }
   ],
   "source": [
    "# from grassgp.utils import get_save_path\n",
    "# from grassgp.utils import safe_save_jax_array_dict as safe_save\n",
    "# from grassgp.utils import load_and_convert_to_samples_dict as load_data\n",
    "from grassgp.grassmann import valid_grass_point, grass_log, compute_barycenter\n",
    "from grassgp.kernels import rbf\n",
    "from grassgp.models import GrassGP\n",
    "from grassgp.means import zero_mean\n",
    "# from grassgp.plot_utils import flatten_samples, plot_grass_dists"
   ]
  },
  {
   "cell_type": "code",
   "execution_count": 4,
   "id": "057ea350-acd0-479e-a98f-457322edddc9",
   "metadata": {},
   "outputs": [],
   "source": [
    "import numpyro\n",
    "from numpyro.infer import SVI, Trace_ELBO, autoguide, init_to_value\n",
    "import numpyro.distributions as dist"
   ]
  },
  {
   "cell_type": "code",
   "execution_count": 5,
   "id": "423baeff-991f-4d79-ae20-2c06f0069046",
   "metadata": {},
   "outputs": [],
   "source": [
    "from grassgp.inference import run_inference"
   ]
  },
  {
   "cell_type": "code",
   "execution_count": 6,
   "id": "92784abe-88cc-48c6-848e-792e866e6991",
   "metadata": {},
   "outputs": [],
   "source": [
    "import matplotlib.pyplot as plt\n",
    "plt.rcParams[\"figure.figsize\"] = (10, 6)"
   ]
  },
  {
   "cell_type": "code",
   "execution_count": 7,
   "id": "e58ffe5a-5797-44f1-8f30-2d1a4b431f13",
   "metadata": {},
   "outputs": [],
   "source": [
    "def run_svi_for_map(rng_key, model, maxiter, step_size, *args):\n",
    "    start = time.time()\n",
    "    guide = autoguide.AutoDelta(model)\n",
    "    optimzer = numpyro.optim.Adam(step_size)\n",
    "    svi = SVI(model, guide, optimzer, Trace_ELBO())\n",
    "    svi_results = svi.run(rng_key, maxiter, *args)\n",
    "    print('\\nSVI elapsed time:', time.time() - start)\n",
    "    return svi_results"
   ]
  },
  {
   "cell_type": "code",
   "execution_count": 8,
   "id": "6afd88a0-03d9-4f64-884c-9b237e58ea6e",
   "metadata": {},
   "outputs": [],
   "source": [
    "# generate training spatial points\n",
    "xlims = (-10, 10)\n",
    "ylims = (-10, -4)\n",
    "n_train_tmp = 114\n",
    "# n_train_tmp = 50\n",
    "ys = [y for y in range(ylims[0], ylims[1], 1)]\n",
    "s_train = []\n",
    "for y in ys:\n",
    "    for x in np.linspace(xlims[0], xlims[1], n_train_tmp // len(ys)):\n",
    "        s = [x, y]\n",
    "        s_train.append(s)\n",
    "\n",
    "s_train = np.array(s_train)\n",
    "n_train = s_train.shape[0]"
   ]
  },
  {
   "cell_type": "code",
   "execution_count": 9,
   "id": "53850390-6234-4661-9297-123497f416fa",
   "metadata": {
    "tags": []
   },
   "outputs": [],
   "source": [
    "# generate test spatial points\n",
    "n_test = 86\n",
    "# n_test = 30\n",
    "key_s_test = random.PRNGKey(235326)\n",
    "key_x_test, key_y_test = random.split(key_s_test, 2)\n",
    "x_test = random.uniform(key_x_test, shape=(n_test, 1), minval=xlims[0], maxval=xlims[1])\n",
    "y_test = random.uniform(key_y_test, shape=(n_test, 1), minval=ylims[0], maxval=ylims[1])\n",
    "s_test = np.hstack((x_test, y_test))"
   ]
  },
  {
   "cell_type": "code",
   "execution_count": 10,
   "id": "85c6a317-e746-4050-8efb-a14ea4fb5549",
   "metadata": {},
   "outputs": [
    {
     "data": {
      "image/png": "[encoded data removed]",
      "text/plain": [
       "<Figure size 1000x600 with 1 Axes>"
      ]
     },
     "metadata": {},
     "output_type": "display_data"
    }
   ],
   "source": [
    "plt.scatter(s_train[:,0],s_train[:, 1], label='training locs')\n",
    "plt.scatter(s_test[:,0],s_test[:, 1], label='test locs')\n",
    "plt.legend()\n",
    "plt.show()"
   ]
  },
  {
   "cell_type": "code",
   "execution_count": 11,
   "id": "d0c29fd1-1b66-4f76-a166-de74939e2de7",
   "metadata": {},
   "outputs": [],
   "source": [
    "# generate random rotation matrix in R^d\n",
    "# d = 10\n",
    "d = 5\n",
    "set_numpy_seed(26436)\n",
    "R = np.array(special_ortho_group.rvs(d))"
   ]
  },
  {
   "cell_type": "code",
   "execution_count": 12,
   "id": "910255cc-0913-4ff7-a5df-e91b1596bfbc",
   "metadata": {},
   "outputs": [],
   "source": [
    "# get the u vectors associated with each s in train and test set\n",
    "# include in R^10\n",
    "s_train_d = vmap(lambda s: np.concatenate((s, np.zeros(d - len(s)))))(s_train)\n",
    "s_test_d = vmap(lambda s: np.concatenate((s, np.zeros(d - len(s)))))(s_test)\n",
    "# rotate using R\n",
    "u_train = vmap(lambda s_d: R @ s_d)(s_train_d)\n",
    "u_test = vmap(lambda s_d: R @ s_d)(s_test_d)"
   ]
  },
  {
   "cell_type": "code",
   "execution_count": 13,
   "id": "7b432e5e-ee9d-4fbd-89e3-8f70cad60fc1",
   "metadata": {},
   "outputs": [],
   "source": [
    "# compute the c_hat matrices\n",
    "def f(u):\n",
    "    return np.linalg.norm(u)**2\n",
    "\n",
    "\n",
    "grad_f = grad(f)\n",
    "\n",
    "grads_train = vmap(grad_f)(u_train)\n",
    "grads_test = vmap(grad_f)(u_test)\n",
    "\n",
    "C_hat_train = vmap(lambda gradient: np.outer(gradient, gradient))(grads_train)\n",
    "C_hat_test = vmap(lambda gradient: np.outer(gradient, gradient))(grads_test)"
   ]
  },
  {
   "cell_type": "code",
   "execution_count": 14,
   "id": "96a6d690-e293-4d3a-b706-f1669a375260",
   "metadata": {},
   "outputs": [],
   "source": [
    "# def get_AS(C_hat, tol_check=1e-3):\n",
    "#     eigs, eig_vecs = np.linalg.eig(C_hat)\n",
    "#     assert sum(np.abs(eigs) >= tol_check) == 1\n",
    "    \n",
    "#     # get index of non-zero eigenvalue\n",
    "#     ind = np.real(eigs).argsort()[-1]  # sort real part and take largest one\n",
    "#     # get corresponding eigenvector; this is the active subspace direction\n",
    "#     w = np.real(eig_vecs[:, ind])\n",
    "#     assert np.linalg.norm(C_hat @ w - np.real(eigs[ind]) * w) / np.linalg.norm(np.real(eigs[ind]) * w) < tol_check\n",
    "#     return w"
   ]
  },
  {
   "cell_type": "code",
   "execution_count": 15,
   "id": "a66d3dfc-5f73-4f04-b157-a1546e12253a",
   "metadata": {},
   "outputs": [],
   "source": [
    "def get_AS(C_hat, tol_check=1e-3):\n",
    "    eigs, eig_vecs = np.linalg.eigh(C_hat)\n",
    "    assert sum(np.abs(eigs) >= tol_check) == 1\n",
    "    \n",
    "    # get index of non-zero eigenvalue\n",
    "    ind = eigs.argsort()[-1]  # sort real part and take largest one\n",
    "    # get corresponding eigenvector; this is the active subspace direction\n",
    "    w = np.real(eig_vecs[:, ind])\n",
    "    assert np.linalg.norm(C_hat @ w - np.real(eigs[ind]) * w) / np.linalg.norm(np.real(eigs[ind]) * w) < tol_check\n",
    "    return w"
   ]
  },
  {
   "cell_type": "code",
   "execution_count": 16,
   "id": "21cf75a1-3b42-41ac-b2a2-e88709514b2a",
   "metadata": {},
   "outputs": [],
   "source": [
    "Ws_train = []\n",
    "for i in range(n_train):\n",
    "    w = get_AS(C_hat_train[i])\n",
    "    Ws_train.append(w)\n",
    "    \n",
    "Ws_test = []\n",
    "for i in range(n_test):\n",
    "    w = get_AS(C_hat_test[i])\n",
    "    Ws_test.append(w)\n",
    "    \n",
    "Ws_train = np.array(Ws_train)[:,:,None]\n",
    "Ws_test = np.array(Ws_test)[:,:,None]\n",
    "\n",
    "# check data are valid Grass points\n",
    "assert vmap(valid_grass_point)(Ws_train).all()\n",
    "assert vmap(valid_grass_point)(Ws_test).all()"
   ]
  },
  {
   "cell_type": "code",
   "execution_count": 17,
   "id": "83d3125b-6ac4-4c5a-ac8a-68788ce5360f",
   "metadata": {},
   "outputs": [],
   "source": [
    "# compute barycenter of train data\n",
    "anchor_point = np.array(compute_barycenter(Ws_train))\n",
    "assert valid_grass_point(anchor_point)"
   ]
  },
  {
   "cell_type": "code",
   "execution_count": 18,
   "id": "1db286c2-a915-41ee-9b15-23ad95376bf4",
   "metadata": {},
   "outputs": [],
   "source": [
    "# compute log of training data and full data\n",
    "log_Ws_train = vmap(lambda W: grass_log(anchor_point, W))(Ws_train)\n",
    "log_Ws_test = vmap(lambda W: grass_log(anchor_point, W))(Ws_test)"
   ]
  },
  {
   "cell_type": "code",
   "execution_count": 19,
   "id": "7e0d2096-2726-4562-b359-0cf7e60a2438",
   "metadata": {},
   "outputs": [],
   "source": [
    "# Omega = np.cov(vmap(vec)(Ws_train), rowvar=False)\n",
    "# assert Omega.shape == (d,d)\n",
    "# Omega += 1e-8 * np.eye(d)\n",
    "# print(f\"{np.linalg.det(Omega)=}\")\n",
    "# mat_heatmap(Omega)\n",
    "# K_tmp = rbf(s_train, s_train, {'var': 1.0, 'length': 1.0, 'noise': 0.0})\n",
    "# Cov = np.kron(K_tmp, Omega)\n",
    "# sns.heatmap(Cov,cbar=True,\n",
    "#               annot=False,\n",
    "#               xticklabels=False,\n",
    "#               yticklabels=False,\n",
    "#               cmap=cm.viridis)\n",
    "# plt.show()\n",
    "# sparse_tol = 1e-4\n",
    "# (np.abs(Cov) < sparse_tol).sum() / (Cov.shape[0] * Cov.shape[1])"
   ]
  },
  {
   "cell_type": "code",
   "execution_count": 20,
   "id": "3ac3b32f-1bcc-4dc7-833c-21c646fd31ef",
   "metadata": {},
   "outputs": [],
   "source": [
    "model_config = {\n",
    "    'anchor_point': anchor_point.tolist(),\n",
    "    'd_in': 2,\n",
    "    'Omega' : None,\n",
    "    # 'Omega' : Omega.tolist(),\n",
    "    'k_include_noise': True,\n",
    "    'var' : 1.0,\n",
    "    'length' : None, \n",
    "    'noise' : None,\n",
    "    'require_noise' : False,\n",
    "    'jitter' : 1e-06,\n",
    "    'cov_jitter' : 1e-4,\n",
    "    'L_jitter' : 1e-8,\n",
    "    'reorthonormalize' : False,\n",
    "    # 'b' : 0.5, # mine\n",
    "    'b' : 0.001, # savvas\n",
    "    # 'ell': 0.0075\n",
    "    # 'ell': 0.01, # mine\n",
    "    'use_kron_chol': False\n",
    "}\n",
    "def model(s, log_Ws, grass_config = model_config):\n",
    "    U = np.array(grass_config['anchor_point'])\n",
    "    d, n = U.shape\n",
    "    N = s.shape[0]\n",
    "    d_n = d * n\n",
    "    # N_params = N * d_n\n",
    "    if log_Ws is not None:\n",
    "        assert log_Ws.shape == (N, d, n), f\"log_Ws.shape=({log_Ws.shape}) instead of {(N, d, n)} as expected\"\n",
    "\n",
    "    # get/sample Omega\n",
    "    if grass_config['Omega'] is None:\n",
    "        # full example\n",
    "        # sigmas = numpyro.sample('sigmas', dist.LogNormal(0.0, 1.0).expand([d_n]))\n",
    "        # L_factor = numpyro.sample('L_factor', dist.LKJ(d_n, 1.0))\n",
    "        # L = numpyro.deterministic('L', L_factor + grass_config['L_jitter'] * np.eye(d_n))\n",
    "        # Omega = numpyro.deterministic('Omega', np.outer(sigmas, sigmas) * L)\n",
    "        # simpler diagonal structure\n",
    "        sigmas = numpyro.sample('sigmas', dist.LogNormal(0.0, 1.0).expand([d_n]))\n",
    "        Omega = numpyro.deterministic('Omega', np.diag(sigmas**2))\n",
    "    else:\n",
    "        Omega = np.array(grass_config['Omega'])\n",
    "        \n",
    "    # get/sample kernel params\n",
    "    if grass_config['var'] is None:\n",
    "        # sample var\n",
    "        var = numpyro.sample(\"kernel_var\", dist.LogNormal(0.0, grass_config['b']))\n",
    "    else:\n",
    "        var = grass_config['var']\n",
    "\n",
    "    if grass_config['length'] is None:\n",
    "        # sample length\n",
    "        # ! my parametrisation\n",
    "        # length = numpyro.sample(\"kernel_length\", dist.LogNormal(0.0, grass_config['b']))\n",
    "        # ! savvas parametrisation\n",
    "        length = numpyro.sample(\"kernel_length\", dist.LogNormal(-0.7, grass_config['b']))\n",
    "    else:\n",
    "        length = grass_config['length']\n",
    "\n",
    "    if grass_config['require_noise']:\n",
    "        if grass_config['noise'] is None:\n",
    "            # sample noise\n",
    "            noise = numpyro.sample(\"kernel_noise\", dist.LogNormal(0.0, grass_config['b']))\n",
    "        else:\n",
    "            noise = grass_config['noise']\n",
    "    else:\n",
    "        noise = 0.0\n",
    "    \n",
    "\n",
    "    # kernel_params = {'var': var, 'length': length, 'noise': noise} # mine\n",
    "    kernel_params = {'var': var, 'length': np.sqrt(1/length), 'noise': noise} # savvas\n",
    "    # create kernel function\n",
    "    k = lambda t, s: rbf(t, s, kernel_params, jitter=grass_config['jitter'], include_noise=grass_config['k_include_noise'])\n",
    "    # create mean function\n",
    "    mu = lambda s: zero_mean(s, d, n)\n",
    "\n",
    "    # initialize GrassGp\n",
    "    grass_gp = GrassGP(d_in=grass_config['d_in'], d_out=(d,n), mu=mu, k=k, Omega=Omega, U=U, cov_jitter=grass_config['cov_jitter'])\n",
    "\n",
    "    # sample Deltas\n",
    "    Deltas = grass_gp.tangent_model(s, use_kron_chol=grass_config['use_kron_chol'])\n",
    "\n",
    "    # # # # ! check what power this should be\n",
    "    # likelihood\n",
    "    # ell = grass_config['ell'] # mine\n",
    "    ell = numpyro.sample(\"ell\", dist.LogNormal(-6, 0.0015))\n",
    "    with numpyro.plate(\"N\", N):\n",
    "        numpyro.sample(\"log_W\", dist.continuous.MatrixNormal(loc=Deltas, scale_tril_row=ell * np.eye(d), scale_tril_column=np.eye(n)), obs=log_Ws)\n",
    "\n",
    "TangentSpaceModelConf = builds(model, grass_config=model_config, zen_partial=True)"
   ]
  },
  {
   "cell_type": "code",
   "execution_count": 21,
   "id": "cf78064d-56ec-423d-bde7-4ede7e2f81af",
   "metadata": {},
   "outputs": [],
   "source": [
    "SVIConfig = make_config(\n",
    "    seed = 123514354575,\n",
    "    maxiter = 15000,\n",
    "    step_size = 0.001\n",
    ")\n",
    "\n",
    "TrainConfig = make_config(\n",
    "    seed = 9870687,\n",
    "    n_warmup = 2000,\n",
    "    n_samples = 7000,\n",
    "    n_chains = 1,\n",
    "    n_thinning = 2\n",
    ")\n",
    "\n",
    "Config = make_config(\n",
    "    model = TangentSpaceModelConf,\n",
    "    svi = SVIConfig,\n",
    "    train = TrainConfig\n",
    ")"
   ]
  },
  {
   "cell_type": "code",
   "execution_count": 22,
   "id": "26f59c0b-33be-4f06-a49e-67c4f09481fe",
   "metadata": {},
   "outputs": [],
   "source": [
    "def train(cfg):\n",
    "    # instantiate grass model\n",
    "    model = instantiate(cfg.model)\n",
    "\n",
    "    # # save training-test data\n",
    "    # head = os.getcwd()\n",
    "    # training_test_data = {'s_train': s_train, 's_test': s_test, 'Ws_train': Ws_train, 'Ws_test': Ws_test, 'log_Ws_train': log_Ws_train, 'log_Ws_test': log_Ws_test, 'anchor_point': anchor_point}\n",
    "    # training_test_main_name = \"training_test_data\"\n",
    "    # training_test_path = get_save_path(head, training_test_main_name)\n",
    "    # try:\n",
    "    #     safe_save(training_test_path, training_test_data)\n",
    "    # except FileExistsError:\n",
    "    #     print(\"File exists so not saving.\")\n",
    "    \n",
    "    # run SVI to get MAP esimtate to initialise MCMC\n",
    "    svi_key = random.PRNGKey(cfg.svi.seed)\n",
    "    maxiter = cfg.svi.maxiter\n",
    "    step_size = cfg.svi.step_size\n",
    "    print(\"Running SVI for MAP estimate to initialise MCMC\")\n",
    "    svi_results = run_svi_for_map(svi_key, model, maxiter, step_size, s_train, log_Ws_train)\n",
    "    \n",
    "    # plot svi losses\n",
    "    plt.plot(svi_results.losses)\n",
    "    plt.show()\n",
    "    \n",
    "    # get initialisation from SVI results\n",
    "    map_est = svi_results.params\n",
    "    strip_val = len('_auto_loc')\n",
    "    init_values = {key[:-strip_val]:value for (key, value) in map_est.items()}\n",
    "    \n",
    "    # run HMC\n",
    "    train_key = random.PRNGKey(cfg.train.seed)\n",
    "    mcmc_config = {'num_warmup' : cfg.train.n_warmup, 'num_samples' : cfg.train.n_samples, 'num_chains' : cfg.train.n_chains, 'thinning' : cfg.train.n_thinning, 'init_strategy' : init_to_value(values=init_values)}\n",
    "    print(\"HMC starting.\")\n",
    "    mcmc = run_inference(train_key, mcmc_config, model, s_train, log_Ws_train)    \n",
    "    # original_stdout = sys.stdout\n",
    "    # with open('hmc_log.txt', 'w') as f:\n",
    "    #     sys.stdout = f\n",
    "    #     mcmc.print_summary()\n",
    "    #     sys.stdout = original_stdout\n",
    "    \n",
    "    samples = mcmc.get_samples()\n",
    "    inference_data = samples.copy()\n",
    "    for param, initial_val in init_values.items():\n",
    "        inference_data[f\"{param}-initial_value\"] = initial_val\n",
    "    \n",
    "    # inference_main_name = \"inference_data\"\n",
    "    # inference_path = get_save_path(head, inference_main_name)\n",
    "    # try:\n",
    "    #     safe_save(inference_path, inference_data)\n",
    "    # except FileExistsError:\n",
    "    #     print(\"File exists so not saving.\")\n",
    "    return inference_data"
   ]
  },
  {
   "cell_type": "code",
   "execution_count": 23,
   "id": "36676277-6fbd-4c48-b1c0-1eda5e5b6be4",
   "metadata": {},
   "outputs": [
    {
     "data": {
      "image/svg+xml": [
       "<?xml version=\"1.0\" encoding=\"UTF-8\" standalone=\"no\"?>\n",
       "<!DOCTYPE svg PUBLIC \"-//W3C//DTD SVG 1.1//EN\"\n",
       " \"http://www.w3.org/Graphics/SVG/1.1/DTD/svg11.dtd\">\n",
       "<!-- Generated by graphviz version 7.0.4 (0)\n",
       " -->\n",
       "<!-- Pages: 1 -->\n",
       "<svg width=\"334pt\" height=\"443pt\"\n",
       " viewBox=\"0.00 0.00 333.55 443.00\" xmlns=\"http://www.w3.org/2000/svg\" xmlns:xlink=\"http://www.w3.org/1999/xlink\">\n",
       "<g id=\"graph0\" class=\"graph\" transform=\"scale(1 1) rotate(0) translate(4 439)\">\n",
       "<polygon fill=\"white\" stroke=\"none\" points=\"-4,4 -4,-439 329.55,-439 329.55,4 -4,4\"/>\n",
       "<g id=\"clust1\" class=\"cluster\">\n",
       "<title>cluster_N</title>\n",
       "<polygon fill=\"none\" stroke=\"black\" points=\"176.55,-8 176.55,-83 268.55,-83 268.55,-8 176.55,-8\"/>\n",
       "<text text-anchor=\"middle\" x=\"254.05\" y=\"-15.8\" font-family=\"Times,serif\" font-size=\"14.00\">N</text>\n",
       "</g>\n",
       "<!-- sigmas -->\n",
       "<g id=\"node1\" class=\"node\">\n",
       "<title>sigmas</title>\n",
       "<ellipse fill=\"white\" stroke=\"black\" cx=\"43.55\" cy=\"-417\" rx=\"43.59\" ry=\"18\"/>\n",
       "<text text-anchor=\"middle\" x=\"43.55\" y=\"-413.3\" font-family=\"Times,serif\" font-size=\"14.00\">sigmas</text>\n",
       "</g>\n",
       "<!-- Omega -->\n",
       "<g id=\"node2\" class=\"node\">\n",
       "<title>Omega</title>\n",
       "<ellipse fill=\"white\" stroke=\"black\" stroke-dasharray=\"5,2\" cx=\"43.55\" cy=\"-345\" rx=\"43.59\" ry=\"18\"/>\n",
       "<text text-anchor=\"middle\" x=\"43.55\" y=\"-341.3\" font-family=\"Times,serif\" font-size=\"14.00\">Omega</text>\n",
       "</g>\n",
       "<!-- sigmas&#45;&gt;Omega -->\n",
       "<g id=\"edge1\" class=\"edge\">\n",
       "<title>sigmas&#45;&gt;Omega</title>\n",
       "<path fill=\"none\" stroke=\"black\" d=\"M43.55,-398.7C43.55,-391.41 43.55,-382.73 43.55,-374.54\"/>\n",
       "<polygon fill=\"black\" stroke=\"black\" points=\"47.05,-374.62 43.55,-364.62 40.05,-374.62 47.05,-374.62\"/>\n",
       "</g>\n",
       "<!-- vec_Vs -->\n",
       "<g id=\"node5\" class=\"node\">\n",
       "<title>vec_Vs</title>\n",
       "<ellipse fill=\"white\" stroke=\"black\" stroke-dasharray=\"5,2\" cx=\"179.55\" cy=\"-273\" rx=\"42.49\" ry=\"18\"/>\n",
       "<text text-anchor=\"middle\" x=\"179.55\" y=\"-269.3\" font-family=\"Times,serif\" font-size=\"14.00\">vec_Vs</text>\n",
       "</g>\n",
       "<!-- Omega&#45;&gt;vec_Vs -->\n",
       "<g id=\"edge2\" class=\"edge\">\n",
       "<title>Omega&#45;&gt;vec_Vs</title>\n",
       "<path fill=\"none\" stroke=\"black\" d=\"M70.09,-330.34C91.01,-319.57 120.38,-304.45 143.44,-292.59\"/>\n",
       "<polygon fill=\"black\" stroke=\"black\" points=\"144.89,-295.77 152.18,-288.08 141.69,-289.55 144.89,-295.77\"/>\n",
       "</g>\n",
       "<!-- kernel_length -->\n",
       "<g id=\"node3\" class=\"node\">\n",
       "<title>kernel_length</title>\n",
       "<ellipse fill=\"white\" stroke=\"black\" cx=\"179.55\" cy=\"-345\" rx=\"74.19\" ry=\"18\"/>\n",
       "<text text-anchor=\"middle\" x=\"179.55\" y=\"-341.3\" font-family=\"Times,serif\" font-size=\"14.00\">kernel_length</text>\n",
       "</g>\n",
       "<!-- kernel_length&#45;&gt;vec_Vs -->\n",
       "<g id=\"edge3\" class=\"edge\">\n",
       "<title>kernel_length&#45;&gt;vec_Vs</title>\n",
       "<path fill=\"none\" stroke=\"black\" d=\"M179.55,-326.7C179.55,-319.41 179.55,-310.73 179.55,-302.54\"/>\n",
       "<polygon fill=\"black\" stroke=\"black\" points=\"183.05,-302.62 179.55,-292.62 176.05,-302.62 183.05,-302.62\"/>\n",
       "</g>\n",
       "<!-- Z -->\n",
       "<g id=\"node4\" class=\"node\">\n",
       "<title>Z</title>\n",
       "<ellipse fill=\"white\" stroke=\"black\" cx=\"298.55\" cy=\"-345\" rx=\"27\" ry=\"18\"/>\n",
       "<text text-anchor=\"middle\" x=\"298.55\" y=\"-341.3\" font-family=\"Times,serif\" font-size=\"14.00\">Z</text>\n",
       "</g>\n",
       "<!-- Z&#45;&gt;vec_Vs -->\n",
       "<g id=\"edge4\" class=\"edge\">\n",
       "<title>Z&#45;&gt;vec_Vs</title>\n",
       "<path fill=\"none\" stroke=\"black\" d=\"M278.63,-332.28C260.89,-321.85 234.56,-306.36 213.5,-293.97\"/>\n",
       "<polygon fill=\"black\" stroke=\"black\" points=\"215.34,-290.99 204.95,-288.94 211.79,-297.03 215.34,-290.99\"/>\n",
       "</g>\n",
       "<!-- Vs -->\n",
       "<g id=\"node6\" class=\"node\">\n",
       "<title>Vs</title>\n",
       "<ellipse fill=\"white\" stroke=\"black\" stroke-dasharray=\"5,2\" cx=\"179.55\" cy=\"-201\" rx=\"27\" ry=\"18\"/>\n",
       "<text text-anchor=\"middle\" x=\"179.55\" y=\"-197.3\" font-family=\"Times,serif\" font-size=\"14.00\">Vs</text>\n",
       "</g>\n",
       "<!-- vec_Vs&#45;&gt;Vs -->\n",
       "<g id=\"edge5\" class=\"edge\">\n",
       "<title>vec_Vs&#45;&gt;Vs</title>\n",
       "<path fill=\"none\" stroke=\"black\" d=\"M179.55,-254.7C179.55,-247.41 179.55,-238.73 179.55,-230.54\"/>\n",
       "<polygon fill=\"black\" stroke=\"black\" points=\"183.05,-230.62 179.55,-220.62 176.05,-230.62 183.05,-230.62\"/>\n",
       "</g>\n",
       "<!-- Deltas -->\n",
       "<g id=\"node7\" class=\"node\">\n",
       "<title>Deltas</title>\n",
       "<ellipse fill=\"white\" stroke=\"black\" stroke-dasharray=\"5,2\" cx=\"179.55\" cy=\"-129\" rx=\"40.09\" ry=\"18\"/>\n",
       "<text text-anchor=\"middle\" x=\"179.55\" y=\"-125.3\" font-family=\"Times,serif\" font-size=\"14.00\">Deltas</text>\n",
       "</g>\n",
       "<!-- Vs&#45;&gt;Deltas -->\n",
       "<g id=\"edge6\" class=\"edge\">\n",
       "<title>Vs&#45;&gt;Deltas</title>\n",
       "<path fill=\"none\" stroke=\"black\" d=\"M179.55,-182.7C179.55,-175.41 179.55,-166.73 179.55,-158.54\"/>\n",
       "<polygon fill=\"black\" stroke=\"black\" points=\"183.05,-158.62 179.55,-148.62 176.05,-158.62 183.05,-158.62\"/>\n",
       "</g>\n",
       "<!-- log_W -->\n",
       "<g id=\"node9\" class=\"node\">\n",
       "<title>log_W</title>\n",
       "<ellipse fill=\"grey\" stroke=\"black\" cx=\"222.55\" cy=\"-57\" rx=\"38.19\" ry=\"18\"/>\n",
       "<text text-anchor=\"middle\" x=\"222.55\" y=\"-53.3\" font-family=\"Times,serif\" font-size=\"14.00\">log_W</text>\n",
       "</g>\n",
       "<!-- Deltas&#45;&gt;log_W -->\n",
       "<g id=\"edge7\" class=\"edge\">\n",
       "<title>Deltas&#45;&gt;log_W</title>\n",
       "<path fill=\"none\" stroke=\"black\" d=\"M189.74,-111.41C194.72,-103.3 200.83,-93.35 206.42,-84.25\"/>\n",
       "<polygon fill=\"black\" stroke=\"black\" points=\"209.38,-86.11 211.64,-75.76 203.42,-82.45 209.38,-86.11\"/>\n",
       "</g>\n",
       "<!-- ell -->\n",
       "<g id=\"node8\" class=\"node\">\n",
       "<title>ell</title>\n",
       "<ellipse fill=\"white\" stroke=\"black\" cx=\"264.55\" cy=\"-129\" rx=\"27\" ry=\"18\"/>\n",
       "<text text-anchor=\"middle\" x=\"264.55\" y=\"-125.3\" font-family=\"Times,serif\" font-size=\"14.00\">ell</text>\n",
       "</g>\n",
       "<!-- ell&#45;&gt;log_W -->\n",
       "<g id=\"edge8\" class=\"edge\">\n",
       "<title>ell&#45;&gt;log_W</title>\n",
       "<path fill=\"none\" stroke=\"black\" d=\"M254.8,-111.76C249.95,-103.67 243.94,-93.66 238.44,-84.49\"/>\n",
       "<polygon fill=\"black\" stroke=\"black\" points=\"241.45,-82.71 233.3,-75.93 235.45,-86.31 241.45,-82.71\"/>\n",
       "</g>\n",
       "</g>\n",
       "</svg>\n"
      ],
      "text/plain": [
       "<graphviz.graphs.Digraph at 0x7f8a343c4bb0>"
      ]
     },
     "execution_count": 23,
     "metadata": {},
     "output_type": "execute_result"
    }
   ],
   "source": [
    "numpyro.render_model(instantiate(Config.model), model_args=(s_train,log_Ws_train))"
   ]
  },
  {
   "cell_type": "code",
   "execution_count": 24,
   "id": "407fdbad-3c6f-4af9-9b0a-972cce26474e",
   "metadata": {},
   "outputs": [
    {
     "name": "stdout",
     "output_type": "stream",
     "text": [
      "Running SVI for MAP estimate to initialise MCMC\n"
     ]
    },
    {
     "name": "stderr",
     "output_type": "stream",
     "text": [
      "  1%|██                                                                                                                                                                          | 181/15000 [00:12<17:37, 14.02it/s]\n",
      "\n",
      "KeyboardInterrupt\n",
      "\n"
     ]
    }
   ],
   "source": [
    "inference_data = train(Config)"
   ]
  },
  {
   "cell_type": "code",
   "execution_count": null,
   "id": "e8f42774-a6a9-4a25-9076-dd7553f5bf0b",
   "metadata": {},
   "outputs": [],
   "source": []
  }
 ],
 "metadata": {
  "jupytext": {
   "formats": "ipynb,py:percent"
  },
  "kernelspec": {
   "display_name": "Python 3 (ipykernel)",
   "language": "python",
   "name": "python3"
  },
  "language_info": {
   "codemirror_mode": {
    "name": "ipython",
    "version": 3
   },
   "file_extension": ".py",
   "mimetype": "text/x-python",
   "name": "python",
   "nbconvert_exporter": "python",
   "pygments_lexer": "ipython3",
   "version": "3.10.8"
  }
 },
 "nbformat": 4,
 "nbformat_minor": 5
}
