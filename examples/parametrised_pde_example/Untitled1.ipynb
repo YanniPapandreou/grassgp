{
 "cells": [
  {
   "cell_type": "code",
   "execution_count": null,
   "id": "3379991d-3b08-495f-a4d2-040bdc33a980",
   "metadata": {},
   "outputs": [],
   "source": []
  }
 ],
 "metadata": {
  "kernelspec": {
   "display_name": "Julia 1.9.0",
   "language": "julia",
   "name": "julia-1.9"
  },
  "language_info": {
   "file_extension": ".jl",
   "mimetype": "application/julia",
   "name": "julia",
   "version": "1.9.0"
  }
 },
 "nbformat": 4,
 "nbformat_minor": 5
}
