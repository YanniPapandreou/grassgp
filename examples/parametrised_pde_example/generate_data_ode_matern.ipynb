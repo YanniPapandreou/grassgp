{
 "cells": [
  {
   "cell_type": "code",
   "execution_count": 1,
   "id": "c5bf231d-5d74-4386-b76f-6d6ee8aceeca",
   "metadata": {
    "tags": []
   },
   "outputs": [],
   "source": [
    "using LinearAlgebra, Distributions, Statistics, Plots, KernelFunctions, Random, Interpolations, ForwardDiff, Gridap, NPZ, ProgressMeter\n",
    "import Gridap: ∇"
   ]
  },
  {
   "cell_type": "code",
   "execution_count": 2,
   "id": "6af1cb19-ef93-4f28-b884-be280261fa33",
   "metadata": {
    "tags": []
   },
   "outputs": [],
   "source": [
    "using IJulia"
   ]
  },
  {
   "cell_type": "markdown",
   "id": "987c18fe-19df-4411-bc15-351d317916b2",
   "metadata": {},
   "source": [
    "# Elliptic ODE with parametrised diffusion coefficient:\n",
    "\n",
    "$\\newcommand{R}{\\mathbb{R}}$\n",
    "\n",
    "\\begin{align}\n",
    "-\\frac{\\mathrm{d}}{\\mathrm{d}x}\\left(\\kappa(x;p)\\frac{\\mathrm{d}}{\\mathrm{d}x} u(x;p)\\right) &= f(x), \\quad x\\in\\Omega:=[0,1] \\\\\n",
    "u(x) &= 0, \\quad x\\in\\partial\\Omega\n",
    "\\end{align}\n",
    "\n",
    "where: $\\kappa:\\R\\times\\R^{d}\\rightarrow\\R$ is defined by:\n",
    "\n",
    "$$\n",
    "\\log\\kappa(x;p) := \\sum_{k=1}^{d} p_{k} \\lambda_{k} \\phi_{k}(x)\n",
    "$$\n",
    "\n",
    "where the the pairs $\\{\\lambda_{k},\\phi_{k}(x)\\}$ are the eigenpairs of the correlation operator associated with the Matern-1/2 covariance function:\n",
    "\n",
    "$$\n",
    "c(x,y) = \\exp\\left(-\\beta^{-1}|x-y|\\right)\n",
    "$$\n",
    "\n",
    "where we truncate the KL-expansion at $d=100$ terms so our parameter vector $p\\in\\R^{100}$.\n",
    "\n",
    "Note here the $\\{p_{k}\\}_{k=1}^{d}$ are i.i.d. $\\mathcal{N}(0,1)$ random variables"
   ]
  },
  {
   "cell_type": "code",
   "execution_count": 3,
   "id": "3b321031-fcf3-4ed4-97fb-fc8dfe95f3b6",
   "metadata": {
    "tags": []
   },
   "outputs": [
    {
     "data": {
      "text/plain": [
       "κ (generic function with 1 method)"
      ]
     },
     "execution_count": 3,
     "metadata": {},
     "output_type": "execute_result"
    }
   ],
   "source": [
    "function κ(x, p, β)\n",
    "    d = length(p)\n",
    "    xs = range(0, stop=1, length=d)\n",
    "    \n",
    "    # form kernel and kernel mat\n",
    "    c = with_lengthscale(Matern12Kernel(), β)\n",
    "    K = kernelmatrix(c, xs)\n",
    "    \n",
    "    # get spectrum\n",
    "    spectrum = eigen(K, sortby = (x -> -real(x)))\n",
    "    \n",
    "    # form eigenpairs\n",
    "    Φ = √(d) * spectrum.vectors\n",
    "    ϕ(x::Float64,i::Int) = linear_interpolation(xs, Φ[:,i])(x)\n",
    "    λ = spectrum.values / d\n",
    "    \n",
    "    # compute log_κ and κ\n",
    "    log_κ = sum(p .* λ .* ϕ.(x, 1:d))\n",
    "    return exp(log_κ)\n",
    "end"
   ]
  },
  {
   "cell_type": "code",
   "execution_count": 17,
   "id": "f7ea6bf6-ceb5-4494-be7f-8beb85513f83",
   "metadata": {
    "tags": []
   },
   "outputs": [
    {
     "data": {
      "text/plain": [
       "1.287367884787411"
      ]
     },
     "execution_count": 17,
     "metadata": {},
     "output_type": "execute_result"
    }
   ],
   "source": [
    "Random.seed!(42)\n",
    "d = 100\n",
    "p = rand(Normal(), d)\n",
    "β = 0.5\n",
    "κ(0.5, p, β)"
   ]
  },
  {
   "cell_type": "code",
   "execution_count": 18,
   "id": "488833a0-d029-491e-ab2a-534eaa7591a5",
   "metadata": {
    "tags": []
   },
   "outputs": [
    {
     "data": {
      "text/plain": [
       "dκdp (generic function with 1 method)"
      ]
     },
     "execution_count": 18,
     "metadata": {},
     "output_type": "execute_result"
    }
   ],
   "source": [
    "function dκdp(x,p,β,j)\n",
    "    d = length(p)\n",
    "    xs = range(0, stop=1, length=d)\n",
    "    \n",
    "    # form kernel and kernel mat\n",
    "    c = with_lengthscale(Matern12Kernel(), β)\n",
    "    K = kernelmatrix(c, xs)\n",
    "    \n",
    "    # get spectrum\n",
    "    spectrum = eigen(K, sortby = (x -> -real(x)))\n",
    "    \n",
    "    # form eigenpairs\n",
    "    Φ = √(d) * spectrum.vectors\n",
    "    ϕ(x::Float64,i::Int) = linear_interpolation(xs, Φ[:,i])(x)\n",
    "    λ = spectrum.values / d\n",
    "    \n",
    "    log_κ = sum(p .* λ .* ϕ.(x, 1:d))\n",
    "    return λ[j] * ϕ(x,j) * exp(log_κ)\n",
    "end"
   ]
  },
  {
   "cell_type": "code",
   "execution_count": 19,
   "id": "6daada3c-dbc4-49a7-bc19-6e163a1f5f17",
   "metadata": {
    "tags": []
   },
   "outputs": [
    {
     "data": {
      "text/plain": [
       "dudp (generic function with 3 methods)"
      ]
     },
     "execution_count": 19,
     "metadata": {},
     "output_type": "execute_result"
    }
   ],
   "source": [
    "function dudp(p, β, κ, dκdp, x0, f, n=50, order=1)\n",
    "    # set up mesh and spaces\n",
    "    domain = (0,1)\n",
    "    partition = (n)\n",
    "    model = CartesianDiscreteModel(domain, partition)\n",
    "\n",
    "    reffe = ReferenceFE(lagrangian,Float64,order)\n",
    "    V0 = TestFESpace(model,reffe,conformity=:H1,dirichlet_tags=\"boundary\")\n",
    "    U = TrialFESpace(V0,x->0)\n",
    "\n",
    "    degree = order + 1\n",
    "\n",
    "    # solve for FEM solution uh of original problem (forward pass)\n",
    "    Ω = Triangulation(model)\n",
    "    dΩ = Measure(Ω,degree)\n",
    "\n",
    "    kappa(x::VectorValue) = κ(x[1],p, β)\n",
    "    a(u,v) = ∫( kappa * ∇(v)⊙∇(u) )*dΩ\n",
    "    b(v) = ∫( v*f )*dΩ\n",
    "\n",
    "    op = AffineFEOperator(a,b,U,V0)\n",
    "    uh = solve(op)\n",
    "\n",
    "    # solve for adjoint variable λ (back pass)\n",
    "    δ = DiracDelta(model, Point(x0))\n",
    "    b_λ(v) = -1*δ(v)\n",
    "    \n",
    "    op_λ = AffineFEOperator(a,b_λ,U,V0)\n",
    "    λ = solve(op_λ)\n",
    "\n",
    "    # compute derivative for each parameter and return and return\n",
    "    grads = []\n",
    "    d = length(p)\n",
    "    for j ∈ 1:d\n",
    "        dkappa(x::VectorValue) = dκdp(x[1],p,β,j)\n",
    "        sens = sum( ∫( dkappa * ∇(λ)⋅∇(uh) )*dΩ )\n",
    "        push!(grads, sens)\n",
    "    end\n",
    "    \n",
    "    return grads\n",
    "end"
   ]
  },
  {
   "cell_type": "code",
   "execution_count": 27,
   "id": "8a72e0fe-53cb-475e-8722-070094fa187b",
   "metadata": {
    "tags": []
   },
   "outputs": [
    {
     "data": {
      "text/plain": [
       "1"
      ]
     },
     "execution_count": 27,
     "metadata": {},
     "output_type": "execute_result"
    }
   ],
   "source": [
    "f(x) = 1.0\n",
    "x0 = 0.5\n",
    "Random.seed!(42)\n",
    "d = 30\n",
    "p = rand(Normal(), d)\n",
    "β = 1"
   ]
  },
  {
   "cell_type": "code",
   "execution_count": 28,
   "id": "e223aadc-8772-465d-b42e-250ce863cae2",
   "metadata": {
    "tags": []
   },
   "outputs": [
    {
     "name": "stdout",
     "output_type": "stream",
     "text": [
      "  6.172894 seconds (4.56 M allocations: 658.048 MiB, 4.90% gc time, 70.98% compilation time: 3% of which was recompilation)\n"
     ]
    },
    {
     "data": {
      "text/plain": [
       "30-element Vector{Any}:\n",
       "  0.0678212426839818\n",
       " -0.00037901807764259923\n",
       "  0.0025896535232198385\n",
       "  2.8343032973214812e-5\n",
       "  8.142115401200362e-5\n",
       " -3.541639758198761e-6\n",
       " -9.55969258036967e-6\n",
       " -5.310497714935109e-6\n",
       "  2.4808146637444575e-5\n",
       " -3.9320637013518807e-7\n",
       "  1.2215346394873323e-5\n",
       "  7.551970634231023e-7\n",
       "  1.2244277378999908e-5\n",
       "  ⋮\n",
       "  4.608697794179263e-6\n",
       "  1.4265435928756865e-7\n",
       " -3.942122716293574e-6\n",
       "  8.487900656810584e-8\n",
       "  2.6938953548187514e-6\n",
       " -5.310339328182543e-8\n",
       "  2.360265103627797e-6\n",
       " -6.648034382215336e-8\n",
       " -1.620642753210826e-6\n",
       " -6.020474228647302e-8\n",
       " -4.643721144213752e-7\n",
       "  7.09305485558147e-8"
      ]
     },
     "execution_count": 28,
     "metadata": {},
     "output_type": "execute_result"
    }
   ],
   "source": [
    "@time begin\n",
    "    grads = dudp(p, β, κ, dκdp, x0, f);\n",
    "end"
   ]
  },
  {
   "cell_type": "code",
   "execution_count": 8,
   "id": "c019650d-1330-4fb4-9314-f2971784a2de",
   "metadata": {
    "tags": []
   },
   "outputs": [
    {
     "data": {
      "text/plain": [
       "getAS (generic function with 1 method)"
      ]
     },
     "execution_count": 8,
     "metadata": {},
     "output_type": "execute_result"
    }
   ],
   "source": [
    "function getAS(x0, ps, β, κ, dκdp, f)\n",
    "    # compute gradients at each p in ps\n",
    "    Grads = map(p -> dudp(p, β, κ, dκdp, x0, f), eachcol(ps))\n",
    "\n",
    "    # take outer product of each grad with itself\n",
    "    C_x = map(grad -> grad * grad', Grads)\n",
    "\n",
    "    # compute mean of outer products\n",
    "    C_hat = Statistics.mean(C_x)\n",
    "\n",
    "    # eigen decomposition of C_hat\n",
    "    spectrum = eigen(C_hat)\n",
    "    λ = spectrum.values\n",
    "\n",
    "    # compute proportion of spectrum explained by max eigenvector\n",
    "    λ_max = max(λ...)\n",
    "    prop = λ_max / sum(abs,λ)\n",
    "\n",
    "    # get AS as leading eigenvector\n",
    "    W = spectrum.vectors[:, argmax(λ)]\n",
    "    @assert W' * W ≈ 1.0\n",
    "\n",
    "    return W, λ, prop\n",
    "end"
   ]
  },
  {
   "cell_type": "code",
   "execution_count": 15,
   "id": "fce9f008-1444-479b-ab3f-8708aa681976",
   "metadata": {
    "tags": []
   },
   "outputs": [
    {
     "name": "stdout",
     "output_type": "stream",
     "text": [
      " 45.868338 seconds (14.18 M allocations: 15.627 GiB, 4.43% gc time)\n"
     ]
    },
    {
     "data": {
      "text/plain": [
       "([-0.9961676170319284, -0.02249621187019473, -0.08437087606066936, 0.004208940153565632, 0.0026203008860199244, -0.00040067917459817866, 0.00048071555468345785, -0.00037096308012848596, 0.0005098084139979852, 0.00015714630649307497  …  1.259025576937096e-5, 1.299682665231507e-6, -9.686464024918641e-6, 1.329056495599523e-6, -7.221111896033929e-6, -1.179959269450559e-6, -4.444629106794739e-6, 1.1336938703309974e-6, -2.150575319159742e-6, 1.1392145639464755e-6], [-5.32655293607305e-18, -5.294350290005522e-18, -4.6285562548794024e-18, -3.170152093818658e-18, -2.803518498362368e-18, -2.6209496607549606e-18, -5.557469523298945e-19, -1.8347735847569123e-19, -7.14847226070694e-20, -1.0254507737904766e-20  …  1.6304605513933722e-12, 3.983100024430367e-12, 1.4583906085832793e-11, 1.5099758318264575e-10, 1.3572472779753037e-9, 4.888540177047233e-9, 2.7682487008978485e-7, 5.425569646212399e-7, 7.442010994547833e-6, 0.014164579612265488], 0.9994166444070419)"
      ]
     },
     "execution_count": 15,
     "metadata": {},
     "output_type": "execute_result"
    }
   ],
   "source": [
    "@time begin\n",
    "    getAS(0.5,ps,β,κ,dκdp,f)\n",
    "end"
   ]
  },
  {
   "cell_type": "code",
   "execution_count": 10,
   "id": "23458020-6135-4e08-a7ec-30c6344c3e6d",
   "metadata": {
    "tags": []
   },
   "outputs": [
    {
     "ename": "LoadError",
     "evalue": "UndefVarError: `xs` not defined",
     "output_type": "error",
     "traceback": [
      "UndefVarError: `xs` not defined",
      "",
      "Stacktrace:",
      " [1] top-level scope",
      "   @ ./In[10]:1"
     ]
    }
   ],
   "source": [
    "for (i,x) in enumerate(xs)\n",
    "    IJulia.clear_output(true)\n",
    "    @show i\n",
    "end"
   ]
  },
  {
   "cell_type": "code",
   "execution_count": 11,
   "id": "909278a2-6562-48f8-a677-fd4ec107b3a3",
   "metadata": {
    "tags": []
   },
   "outputs": [
    {
     "data": {
      "text/plain": [
       "1.0"
      ]
     },
     "execution_count": 11,
     "metadata": {},
     "output_type": "execute_result"
    }
   ],
   "source": [
    "β = 1.0"
   ]
  },
  {
   "cell_type": "code",
   "execution_count": 34,
   "id": "87d616c9-f671-4e42-bb83-cf8d296b6fb2",
   "metadata": {
    "tags": []
   },
   "outputs": [
    {
     "data": {
      "text/plain": [
       "50.0"
      ]
     },
     "execution_count": 34,
     "metadata": {},
     "output_type": "execute_result"
    }
   ],
   "source": [
    "(((6*100)/60)*5)"
   ]
  },
  {
   "cell_type": "code",
   "execution_count": 37,
   "id": "7536090d-909a-46a4-a318-c84c03ba1447",
   "metadata": {
    "tags": []
   },
   "outputs": [],
   "source": [
    "Random.seed!(42)\n",
    "d = 30\n",
    "M = 100\n",
    "ps = rand(Normal(), (d,M));"
   ]
  },
  {
   "cell_type": "code",
   "execution_count": 38,
   "id": "fd99f27a-6c3d-4338-9098-3f5a4c990d3c",
   "metadata": {
    "tags": []
   },
   "outputs": [
    {
     "data": {
      "text/plain": [
       "0.01:0.245:0.99"
      ]
     },
     "execution_count": 38,
     "metadata": {},
     "output_type": "execute_result"
    }
   ],
   "source": [
    "xs = range(0.01,stop=0.99,length=5)"
   ]
  },
  {
   "cell_type": "code",
   "execution_count": null,
   "id": "92bea9bc-dd8a-4404-b4fc-132fdd4ff0b3",
   "metadata": {
    "tags": []
   },
   "outputs": [
    {
     "name": "stdout",
     "output_type": "stream",
     "text": [
      "i = 3\n"
     ]
    }
   ],
   "source": [
    "AS_results = []\n",
    "for (i,x) ∈ enumerate(xs)\n",
    "    IJulia.clear_output(true)\n",
    "    @show i\n",
    "    result = getAS(x, ps, β, κ, dκdp, f)\n",
    "    push!(AS_results, result)\n",
    "end"
   ]
  },
  {
   "cell_type": "code",
   "execution_count": 40,
   "id": "3cc3bcc4-dfd6-47a4-81c4-3a5e72c98be3",
   "metadata": {
    "tags": []
   },
   "outputs": [],
   "source": [
    "# AS_results = @showprogress map(x -> getAS(x, ps, β, κ, dκdp, f), xs);"
   ]
  },
  {
   "cell_type": "code",
   "execution_count": null,
   "id": "f66183e9-64ff-4124-a8ba-6a6fa5598b41",
   "metadata": {},
   "outputs": [],
   "source": []
  }
 ],
 "metadata": {
  "kernelspec": {
   "display_name": "Julia 1.9.0",
   "language": "julia",
   "name": "julia-1.9"
  },
  "language_info": {
   "file_extension": ".jl",
   "mimetype": "application/julia",
   "name": "julia",
   "version": "1.9.0"
  }
 },
 "nbformat": 4,
 "nbformat_minor": 5
}
