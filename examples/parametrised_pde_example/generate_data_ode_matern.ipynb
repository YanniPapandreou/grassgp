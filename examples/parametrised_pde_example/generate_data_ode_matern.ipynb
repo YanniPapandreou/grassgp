{
 "cells": [
  {
   "cell_type": "code",
   "execution_count": 1,
   "id": "c5bf231d-5d74-4386-b76f-6d6ee8aceeca",
   "metadata": {
    "tags": []
   },
   "outputs": [],
   "source": [
    "using LinearAlgebra, Distributions, Statistics, Plots, KernelFunctions, Random, Interpolations, ForwardDiff, Gridap, NPZ, ProgressMeter\n",
    "import Gridap: ∇"
   ]
  },
  {
   "cell_type": "code",
   "execution_count": 2,
   "id": "6af1cb19-ef93-4f28-b884-be280261fa33",
   "metadata": {
    "tags": []
   },
   "outputs": [],
   "source": [
    "using IJulia"
   ]
  },
  {
   "cell_type": "markdown",
   "id": "987c18fe-19df-4411-bc15-351d317916b2",
   "metadata": {},
   "source": [
    "# Elliptic ODE with parametrised diffusion coefficient:\n",
    "\n",
    "$\\newcommand{R}{\\mathbb{R}}$\n",
    "\n",
    "\\begin{align}\n",
    "-\\frac{\\mathrm{d}}{\\mathrm{d}x}\\left(\\kappa(x;p)\\frac{\\mathrm{d}}{\\mathrm{d}x} u(x;p)\\right) &= f(x), \\quad x\\in\\Omega:=[0,1] \\\\\n",
    "u(x) &= 0, \\quad x\\in\\partial\\Omega\n",
    "\\end{align}\n",
    "\n",
    "where: $\\kappa:\\R\\times\\R^{d}\\rightarrow\\R$ is defined by:\n",
    "\n",
    "$$\n",
    "\\log\\kappa(x;p) := \\sum_{k=1}^{d} p_{k} \\lambda_{k} \\phi_{k}(x)\n",
    "$$\n",
    "\n",
    "where the the pairs $\\{\\lambda_{k},\\phi_{k}(x)\\}$ are the eigenpairs of the correlation operator associated with the Matern-1/2 covariance function:\n",
    "\n",
    "$$\n",
    "c(x,y) = \\exp\\left(-\\beta^{-1}|x-y|\\right)\n",
    "$$\n",
    "\n",
    "where we truncate the KL-expansion at $d=100$ terms so our parameter vector $p\\in\\R^{100}$.\n",
    "\n",
    "Note here the $\\{p_{k}\\}_{k=1}^{d}$ are i.i.d. $\\mathcal{N}(0,1)$ random variables"
   ]
  },
  {
   "cell_type": "code",
   "execution_count": 3,
   "id": "fdb9b6cb-122b-4fb5-99af-71b092a063d0",
   "metadata": {},
   "outputs": [
    {
     "data": {
      "text/plain": [
       "eigenpairs (generic function with 1 method)"
      ]
     },
     "execution_count": 3,
     "metadata": {},
     "output_type": "execute_result"
    }
   ],
   "source": [
    "function eigenpairs(β,d)\n",
    "    xs = range(0, stop=1, length=d)\n",
    "    \n",
    "    # form kernel and kernel mat\n",
    "    c = with_lengthscale(Matern12Kernel(), β)\n",
    "    K = kernelmatrix(c, xs)\n",
    "\n",
    "    # get spectrum\n",
    "    spectrum = eigen(K, sortby = (x -> -real(x)))\n",
    "    \n",
    "    # form eigenpairs\n",
    "    Φ = √(d) * spectrum.vectors\n",
    "    ϕ(x::Float64,i::Int) = linear_interpolation(xs, Φ[:,i])(x)\n",
    "    λ = spectrum.values / d\n",
    "    return ϕ, λ\n",
    "end"
   ]
  },
  {
   "cell_type": "code",
   "execution_count": 4,
   "id": "3b321031-fcf3-4ed4-97fb-fc8dfe95f3b6",
   "metadata": {
    "tags": []
   },
   "outputs": [
    {
     "data": {
      "text/plain": [
       "κ (generic function with 1 method)"
      ]
     },
     "execution_count": 4,
     "metadata": {},
     "output_type": "execute_result"
    }
   ],
   "source": [
    "function κ(x, p, ϕ, λ)\n",
    "    d = length(p)\n",
    "    # compute log_κ and κ\n",
    "    log_κ = sum(p .* λ .* ϕ.(x, 1:d))\n",
    "    return exp(log_κ)\n",
    "end"
   ]
  },
  {
   "cell_type": "code",
   "execution_count": 22,
   "id": "f7ea6bf6-ceb5-4494-be7f-8beb85513f83",
   "metadata": {
    "tags": []
   },
   "outputs": [
    {
     "data": {
      "text/plain": [
       "1.287367884787411"
      ]
     },
     "execution_count": 22,
     "metadata": {},
     "output_type": "execute_result"
    }
   ],
   "source": [
    "Random.seed!(42)\n",
    "d = 100\n",
    "p = rand(Normal(), d)\n",
    "β = 0.5\n",
    "ϕ, λ_KL = eigenpairs(β, d)\n",
    "κ(0.5, p, ϕ, λ_KL)"
   ]
  },
  {
   "cell_type": "code",
   "execution_count": 7,
   "id": "488833a0-d029-491e-ab2a-534eaa7591a5",
   "metadata": {
    "tags": []
   },
   "outputs": [
    {
     "data": {
      "text/plain": [
       "dκdp (generic function with 1 method)"
      ]
     },
     "execution_count": 7,
     "metadata": {},
     "output_type": "execute_result"
    }
   ],
   "source": [
    "function dκdp(x,p,ϕ,λ,j)\n",
    "    d = length(p)\n",
    "    log_κ = sum(p .* λ .* ϕ.(x, 1:d))\n",
    "    return λ[j] * ϕ(x,j) * exp(log_κ)\n",
    "end"
   ]
  },
  {
   "cell_type": "code",
   "execution_count": 20,
   "id": "08ca0c0e-8264-4148-8223-455777367d02",
   "metadata": {},
   "outputs": [
    {
     "data": {
      "text/plain": [
       "2.1074261117499784e-16"
      ]
     },
     "execution_count": 20,
     "metadata": {},
     "output_type": "execute_result"
    }
   ],
   "source": [
    "dκdp(0.5,p,ϕ,λ,2)"
   ]
  },
  {
   "cell_type": "code",
   "execution_count": 23,
   "id": "6daada3c-dbc4-49a7-bc19-6e163a1f5f17",
   "metadata": {
    "tags": []
   },
   "outputs": [
    {
     "data": {
      "text/plain": [
       "dudp (generic function with 3 methods)"
      ]
     },
     "execution_count": 23,
     "metadata": {},
     "output_type": "execute_result"
    }
   ],
   "source": [
    "function dudp(p, ϕ, λ_KL, κ, dκdp, x0, f, n=50, order=1)\n",
    "    # set up mesh and spaces\n",
    "    domain = (0,1)\n",
    "    partition = (n)\n",
    "    model = CartesianDiscreteModel(domain, partition)\n",
    "\n",
    "    reffe = ReferenceFE(lagrangian,Float64,order)\n",
    "    V0 = TestFESpace(model,reffe,conformity=:H1,dirichlet_tags=\"boundary\")\n",
    "    U = TrialFESpace(V0,x->0)\n",
    "\n",
    "    degree = order + 1\n",
    "\n",
    "    # solve for FEM solution uh of original problem (forward pass)\n",
    "    Ω = Triangulation(model)\n",
    "    dΩ = Measure(Ω,degree)\n",
    "\n",
    "    kappa(x::VectorValue) = κ(x[1],p, ϕ, λ_KL)\n",
    "    a(u,v) = ∫( kappa * ∇(v)⊙∇(u) )*dΩ\n",
    "    b(v) = ∫( v*f )*dΩ\n",
    "\n",
    "    op = AffineFEOperator(a,b,U,V0)\n",
    "    uh = solve(op)\n",
    "\n",
    "    # solve for adjoint variable λ (back pass)\n",
    "    δ = DiracDelta(model, Point(x0))\n",
    "    b_λ(v) = -1*δ(v)\n",
    "    \n",
    "    op_λ = AffineFEOperator(a,b_λ,U,V0)\n",
    "    λ = solve(op_λ)\n",
    "\n",
    "    # compute derivative for each parameter and return and return\n",
    "    grads = []\n",
    "    d = length(p)\n",
    "    for j ∈ 1:d\n",
    "        dkappa(x::VectorValue) = dκdp(x[1],p,ϕ,λ_KL,j)\n",
    "        sens = sum( ∫( dkappa * ∇(λ)⋅∇(uh) )*dΩ )\n",
    "        push!(grads, sens)\n",
    "    end\n",
    "    \n",
    "    return grads\n",
    "end"
   ]
  },
  {
   "cell_type": "code",
   "execution_count": 25,
   "id": "8a72e0fe-53cb-475e-8722-070094fa187b",
   "metadata": {
    "tags": []
   },
   "outputs": [
    {
     "data": {
      "text/plain": [
       "(ϕ, [0.5720412361334664, 0.19618886458384138, 0.07912283116165131, 0.040154110559142364, 0.023814405436660913, 0.01564704630248294, 0.011031950775377835, 0.008184913417153977, 0.006310315651440851, 0.005012664929596786  …  0.00010353969216468372, 0.00010305195042530761, 0.00010261814462574573, 0.00010223739531059515, 0.00010190893513120877, 0.00010163210553466771, 0.00010140635394149013, 0.00010123123139176252, 0.00010110639064216426, 0.00010103158469992617])"
      ]
     },
     "execution_count": 25,
     "metadata": {},
     "output_type": "execute_result"
    }
   ],
   "source": [
    "f(x) = 1.0\n",
    "x0 = 0.5\n",
    "Random.seed!(42)\n",
    "d = 100\n",
    "p = rand(Normal(), d)\n",
    "β = 0.5\n",
    "ϕ, λ_KL = eigenpairs(β, d)"
   ]
  },
  {
   "cell_type": "code",
   "execution_count": 26,
   "id": "72b2b3fa-f149-411c-bf0f-8e13161e57a0",
   "metadata": {},
   "outputs": [
    {
     "data": {
      "text/plain": [
       "100-element Vector{Any}:\n",
       "  0.05542587400569864\n",
       " -0.0009683825648324982\n",
       " -0.005834004498755138\n",
       "  3.819247779626988e-5\n",
       "  0.00020629754143597324\n",
       " -2.4691387334250636e-5\n",
       "  7.126858324129904e-5\n",
       " -1.2867695581950692e-6\n",
       " -1.3857352213645639e-5\n",
       " -5.790744057988898e-6\n",
       " -1.3599150479765641e-6\n",
       " -7.0269001032017e-7\n",
       "  5.751980901336189e-6\n",
       "  ⋮\n",
       "  2.1909916562519897e-7\n",
       "  2.2096312865053965e-8\n",
       "  2.2392988877670717e-7\n",
       "  1.9752239323708825e-9\n",
       "  3.905336592951781e-7\n",
       "  1.993041481386328e-8\n",
       "  4.9357412090441e-7\n",
       " -3.6958895798620365e-10\n",
       "  8.082027182219375e-7\n",
       "  3.4727966277200546e-8\n",
       "  1.347013334767501e-6\n",
       "  5.879710562071544e-8"
      ]
     },
     "execution_count": 26,
     "metadata": {},
     "output_type": "execute_result"
    }
   ],
   "source": [
    "# dudp(p, ϕ, λ_KL, κ, dκdp, x0, f)"
   ]
  },
  {
   "cell_type": "code",
   "execution_count": 27,
   "id": "e223aadc-8772-465d-b42e-250ce863cae2",
   "metadata": {
    "tags": []
   },
   "outputs": [
    {
     "name": "stdout",
     "output_type": "stream",
     "text": [
      "  0.580155 seconds (3.70 M allocations: 2.865 GiB, 27.37% gc time)\n"
     ]
    },
    {
     "data": {
      "text/plain": [
       "100-element Vector{Any}:\n",
       "  0.05542587400569864\n",
       " -0.0009683825648324982\n",
       " -0.005834004498755138\n",
       "  3.819247779626988e-5\n",
       "  0.00020629754143597324\n",
       " -2.4691387334250636e-5\n",
       "  7.126858324129904e-5\n",
       " -1.2867695581950692e-6\n",
       " -1.3857352213645639e-5\n",
       " -5.790744057988898e-6\n",
       " -1.3599150479765641e-6\n",
       " -7.0269001032017e-7\n",
       "  5.751980901336189e-6\n",
       "  ⋮\n",
       "  2.1909916562519897e-7\n",
       "  2.2096312865053965e-8\n",
       "  2.2392988877670717e-7\n",
       "  1.9752239323708825e-9\n",
       "  3.905336592951781e-7\n",
       "  1.993041481386328e-8\n",
       "  4.9357412090441e-7\n",
       " -3.6958895798620365e-10\n",
       "  8.082027182219375e-7\n",
       "  3.4727966277200546e-8\n",
       "  1.347013334767501e-6\n",
       "  5.879710562071544e-8"
      ]
     },
     "execution_count": 27,
     "metadata": {},
     "output_type": "execute_result"
    }
   ],
   "source": [
    "@time begin\n",
    "    grads = dudp(p, ϕ, λ, κ, dκdp, x0, f);\n",
    "end"
   ]
  },
  {
   "cell_type": "code",
   "execution_count": 21,
   "id": "c019650d-1330-4fb4-9314-f2971784a2de",
   "metadata": {
    "tags": []
   },
   "outputs": [
    {
     "data": {
      "text/plain": [
       "getAS (generic function with 1 method)"
      ]
     },
     "execution_count": 21,
     "metadata": {},
     "output_type": "execute_result"
    }
   ],
   "source": [
    "function getAS(x0, ps, ϕ, λ_KL, κ, dκdp, f)\n",
    "    # compute gradients at each p in ps\n",
    "    Grads = map(p -> dudp(p, ϕ, λ_KL, κ, dκdp, x0, f), eachcol(ps))\n",
    "\n",
    "    # take outer product of each grad with itself\n",
    "    C_x = map(grad -> grad * grad', Grads)\n",
    "\n",
    "    # compute mean of outer products\n",
    "    C_hat = Statistics.mean(C_x)\n",
    "\n",
    "    # eigen decomposition of C_hat\n",
    "    spectrum = eigen(C_hat)\n",
    "    λ = spectrum.values\n",
    "\n",
    "    # compute proportion of spectrum explained by max eigenvector\n",
    "    λ_max = max(λ...)\n",
    "    prop = λ_max / sum(abs,λ)\n",
    "\n",
    "    # get AS as leading eigenvector\n",
    "    W = spectrum.vectors[:, argmax(λ)]\n",
    "    @assert W' * W ≈ 1.0\n",
    "\n",
    "    return W, λ, prop\n",
    "end"
   ]
  },
  {
   "cell_type": "code",
   "execution_count": 22,
   "id": "7536090d-909a-46a4-a318-c84c03ba1447",
   "metadata": {
    "tags": []
   },
   "outputs": [],
   "source": [
    "Random.seed!(42)\n",
    "d = 50\n",
    "M = 100\n",
    "ps = rand(Normal(), (d,M));"
   ]
  },
  {
   "cell_type": "code",
   "execution_count": 23,
   "id": "fce9f008-1444-479b-ab3f-8708aa681976",
   "metadata": {
    "tags": []
   },
   "outputs": [
    {
     "name": "stdout",
     "output_type": "stream",
     "text": [
      "320.544404 seconds (148.93 M allocations: 156.736 GiB, 5.48% gc time, 1.17% compilation time)\n"
     ]
    },
    {
     "data": {
      "text/plain": [
       "([-0.9993715507868105, -7.209616069710391e-5, -0.03542661971111379, 0.0003883350419153888, 0.0010960590364227014, -4.423210893091799e-6, 0.00012450450582100035, -9.705869889396412e-6, 0.00023854459809929094, 7.66247121627373e-6  …  5.120062711017431e-6, 1.0784746229077707e-7, 3.939566959042385e-6, 7.17366796077978e-9, -2.934851769385168e-6, -7.752174241624597e-8, -1.8125025771997835e-6, 2.5595469632345005e-8, -8.817735712707275e-7, -4.935447499440276e-8], [2.918474682749087e-20, 4.0312776458955875e-20, 8.710966584861892e-20, 1.5184287905589437e-19, 2.053651216177132e-19, 2.3978093412191173e-19, 5.54741102481446e-19, 6.512186035900109e-19, 7.203725212376894e-19, 8.011764666917357e-19  …  1.5460925990246412e-12, 6.7988799469124835e-12, 1.970018240800247e-11, 5.231795276075645e-11, 2.7701692904475334e-10, 1.624314700556985e-9, 3.012249782429064e-8, 1.7047012084003114e-7, 5.206748546997236e-6, 0.02015457194358601], 0.9997316801110835)"
      ]
     },
     "execution_count": 23,
     "metadata": {},
     "output_type": "execute_result"
    }
   ],
   "source": [
    "@time begin\n",
    "    getAS(0.5,ps,β,κ,dκdp,f)\n",
    "end"
   ]
  },
  {
   "cell_type": "code",
   "execution_count": 27,
   "id": "d6553dc4-b1b7-4084-8467-e78c2efd4b1f",
   "metadata": {},
   "outputs": [
    {
     "data": {
      "text/plain": [
       "10.7"
      ]
     },
     "execution_count": 27,
     "metadata": {},
     "output_type": "execute_result"
    }
   ],
   "source": [
    "((321 * 3 * 40) / 60) / 60"
   ]
  },
  {
   "cell_type": "code",
   "execution_count": 10,
   "id": "23458020-6135-4e08-a7ec-30c6344c3e6d",
   "metadata": {
    "tags": []
   },
   "outputs": [
    {
     "ename": "LoadError",
     "evalue": "UndefVarError: `xs` not defined",
     "output_type": "error",
     "traceback": [
      "UndefVarError: `xs` not defined",
      "",
      "Stacktrace:",
      " [1] top-level scope",
      "   @ ./In[10]:1"
     ]
    }
   ],
   "source": [
    "for (i,x) in enumerate(xs)\n",
    "    IJulia.clear_output(true)\n",
    "    @show i\n",
    "end"
   ]
  },
  {
   "cell_type": "code",
   "execution_count": 11,
   "id": "909278a2-6562-48f8-a677-fd4ec107b3a3",
   "metadata": {
    "tags": []
   },
   "outputs": [
    {
     "data": {
      "text/plain": [
       "1.0"
      ]
     },
     "execution_count": 11,
     "metadata": {},
     "output_type": "execute_result"
    }
   ],
   "source": [
    "β = 1.0"
   ]
  },
  {
   "cell_type": "code",
   "execution_count": 34,
   "id": "87d616c9-f671-4e42-bb83-cf8d296b6fb2",
   "metadata": {
    "tags": []
   },
   "outputs": [
    {
     "data": {
      "text/plain": [
       "50.0"
      ]
     },
     "execution_count": 34,
     "metadata": {},
     "output_type": "execute_result"
    }
   ],
   "source": [
    "(((6*100)/60)*5)"
   ]
  },
  {
   "cell_type": "code",
   "execution_count": 38,
   "id": "fd99f27a-6c3d-4338-9098-3f5a4c990d3c",
   "metadata": {
    "tags": []
   },
   "outputs": [
    {
     "data": {
      "text/plain": [
       "0.01:0.245:0.99"
      ]
     },
     "execution_count": 38,
     "metadata": {},
     "output_type": "execute_result"
    }
   ],
   "source": [
    "xs = range(0.01,stop=0.99,length=5)"
   ]
  },
  {
   "cell_type": "code",
   "execution_count": null,
   "id": "92bea9bc-dd8a-4404-b4fc-132fdd4ff0b3",
   "metadata": {
    "tags": []
   },
   "outputs": [
    {
     "name": "stdout",
     "output_type": "stream",
     "text": [
      "i = 3\n"
     ]
    }
   ],
   "source": [
    "AS_results = []\n",
    "for (i,x) ∈ enumerate(xs)\n",
    "    IJulia.clear_output(true)\n",
    "    @show i\n",
    "    result = getAS(x, ps, β, κ, dκdp, f)\n",
    "    push!(AS_results, result)\n",
    "end"
   ]
  },
  {
   "cell_type": "code",
   "execution_count": 40,
   "id": "3cc3bcc4-dfd6-47a4-81c4-3a5e72c98be3",
   "metadata": {
    "tags": []
   },
   "outputs": [],
   "source": [
    "# AS_results = @showprogress map(x -> getAS(x, ps, β, κ, dκdp, f), xs);"
   ]
  },
  {
   "cell_type": "code",
   "execution_count": 29,
   "id": "f66183e9-64ff-4124-a8ba-6a6fa5598b41",
   "metadata": {},
   "outputs": [
    {
     "data": {
      "text/plain": [
       "2-element Vector{Tuple{Int64, Int64, Real}}:\n",
       " (1, 2, 4)\n",
       " (3, 4, -1.0)"
      ]
     },
     "execution_count": 29,
     "metadata": {},
     "output_type": "execute_result"
    }
   ],
   "source": [
    "AS_results = [(1,2,4),(3,4,-1.0)]"
   ]
  },
  {
   "cell_type": "code",
   "execution_count": 30,
   "id": "c5e749e9-03b5-48d2-b4bf-c3d830f6ba58",
   "metadata": {},
   "outputs": [],
   "source": [
    "using JLD"
   ]
  },
  {
   "cell_type": "code",
   "execution_count": 31,
   "id": "adc920fe-6e8e-4693-81ad-ba64eeee7b47",
   "metadata": {},
   "outputs": [],
   "source": [
    "save(\"test.jld\", \"AS_results\", AS_results)"
   ]
  },
  {
   "cell_type": "code",
   "execution_count": 32,
   "id": "c0b73ff9-d2d5-4a01-b1dc-398e3f50c65a",
   "metadata": {},
   "outputs": [
    {
     "data": {
      "text/plain": [
       "Dict{String, Any} with 1 entry:\n",
       "  \"AS_results\" => Tuple{Int64, Int64, Real}[(1, 2, 4), (3, 4, -1.0)]"
      ]
     },
     "execution_count": 32,
     "metadata": {},
     "output_type": "execute_result"
    }
   ],
   "source": [
    "res = load(\"test.jld\")"
   ]
  },
  {
   "cell_type": "code",
   "execution_count": 34,
   "id": "82f7c153-6d1e-406d-b11f-fc079d9b5a69",
   "metadata": {},
   "outputs": [
    {
     "data": {
      "text/plain": [
       "2-element Vector{Tuple{Int64, Int64, Real}}:\n",
       " (1, 2, 4)\n",
       " (3, 4, -1.0)"
      ]
     },
     "execution_count": 34,
     "metadata": {},
     "output_type": "execute_result"
    }
   ],
   "source": [
    "res[\"AS_results\"]"
   ]
  },
  {
   "cell_type": "code",
   "execution_count": null,
   "id": "7f960a26-d29e-49f0-a359-cebdb903641c",
   "metadata": {},
   "outputs": [],
   "source": []
  }
 ],
 "metadata": {
  "kernelspec": {
   "display_name": "Julia 1.9.0",
   "language": "julia",
   "name": "julia-1.9"
  },
  "language_info": {
   "file_extension": ".jl",
   "mimetype": "application/julia",
   "name": "julia",
   "version": "1.9.0"
  }
 },
 "nbformat": 4,
 "nbformat_minor": 5
}
